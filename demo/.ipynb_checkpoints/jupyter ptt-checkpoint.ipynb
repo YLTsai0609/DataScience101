{
 "cells": [
  {
   "cell_type": "markdown",
   "metadata": {
    "colab_type": "text",
    "id": "OWTWS9tmFApF",
    "slideshow": {
     "slide_type": "slide"
    }
   },
   "source": [
    "# Jupyter Notebook 使用技巧彙整\n",
    "\n",
    "> 轉換為投影片格式\n",
    "\n",
    "> `jupyter nbconvert my-nb-slide.ipynb --to slides --post serve`\n",
    "\n",
    "[Pyradise](https://www.facebook.com/pyradise.geek/)，郭耀仁\n",
    "\n",
    "[Jupyter Notebook 使用技巧彙整：轉換為投影片格式](https://medium.com/pyradise/jupyter-notebook-tricks-slideshows-a057a39c0a23)\n",
    "\n",
    "Edit by Yu Long Tsai\n"
   ]
  },
  {
   "cell_type": "markdown",
   "metadata": {
    "colab_type": "text",
    "id": "L0BKNkE6FApH",
    "slideshow": {
     "slide_type": "slide"
    }
   },
   "source": [
    "## 水平投影片"
   ]
  },
  {
   "cell_type": "code",
   "execution_count": 1,
   "metadata": {
    "ExecuteTime": {
     "end_time": "2020-02-09T15:11:39.508088Z",
     "start_time": "2020-02-09T15:11:39.502140Z"
    },
    "colab": {},
    "colab_type": "code",
    "id": "u7bX-APCFApI",
    "outputId": "f941c83b-a641-4e67-e762-52b8f81f1713"
   },
   "outputs": [
    {
     "name": "stdout",
     "output_type": "stream",
     "text": [
      "Horizontal slide\n",
      "Say ya\n"
     ]
    }
   ],
   "source": [
    "# 會直接顯示在1.1中，以Slide進行區隔\n",
    "print(\"Horizontal slide\")"
   ]
  },
  {
   "cell_type": "markdown",
   "metadata": {
    "colab_type": "text",
    "id": "mpqdj5NNFApQ",
    "slideshow": {
     "slide_type": "subslide"
    }
   },
   "source": [
    "## 垂直投影片\n",
    "* 從下面出現，透過**下方向鍵**來控制"
   ]
  },
  {
   "cell_type": "code",
   "execution_count": 0,
   "metadata": {
    "colab": {},
    "colab_type": "code",
    "id": "lNpfzisnFApR",
    "outputId": "f57faf3c-d620-41f0-a7f0-4899ef105448"
   },
   "outputs": [
    {
     "name": "stdout",
     "output_type": "stream",
     "text": [
      "Vertical slide\n"
     ]
    }
   ],
   "source": [
    "# 會跟著1.2一起出現\n",
    "print(\"Vertical slide\")"
   ]
  },
  {
   "cell_type": "markdown",
   "metadata": {
    "colab_type": "text",
    "id": "wq6pp_gBFApV",
    "slideshow": {
     "slide_type": "slide"
    }
   },
   "source": [
    "## 另一張水平投影片"
   ]
  },
  {
   "cell_type": "code",
   "execution_count": 0,
   "metadata": {
    "colab": {},
    "colab_type": "code",
    "id": "NeADejJtFApW",
    "outputId": "42289e99-ef8c-44cc-d462-12ee0a8f395a"
   },
   "outputs": [
    {
     "name": "stdout",
     "output_type": "stream",
     "text": [
      "Another horizontal slide\n"
     ]
    }
   ],
   "source": [
    "print(\"Another horizontal slide\")"
   ]
  },
  {
   "cell_type": "markdown",
   "metadata": {
    "colab_type": "text",
    "id": "kYZCGdM9FApb",
    "slideshow": {
     "slide_type": "subslide"
    }
   },
   "source": [
    "## 另一張垂直投影片\n",
    "* 另一張圖影片"
   ]
  },
  {
   "cell_type": "code",
   "execution_count": 0,
   "metadata": {
    "colab": {},
    "colab_type": "code",
    "id": "oyQlgs98FApd",
    "outputId": "eb51e3ab-0455-498c-c4c2-9b86c00d8771"
   },
   "outputs": [
    {
     "name": "stdout",
     "output_type": "stream",
     "text": [
      "Another vertical slide\n"
     ]
    }
   ],
   "source": [
    "print(\"Another vertical slide\")"
   ]
  },
  {
   "cell_type": "markdown",
   "metadata": {
    "colab_type": "text",
    "id": "VNOlbh0oFApi",
    "slideshow": {
     "slide_type": "fragment"
    }
   },
   "source": [
    "## Fragment 投影片\n",
    "* 依序顯示多個儲存格"
   ]
  },
  {
   "cell_type": "code",
   "execution_count": 0,
   "metadata": {
    "colab": {},
    "colab_type": "code",
    "id": "ebTUYWxEFApk",
    "outputId": "efb16958-6638-404d-8c2e-abb9b3ba7c0b",
    "slideshow": {
     "slide_type": "fragment"
    }
   },
   "outputs": [
    {
     "name": "stdout",
     "output_type": "stream",
     "text": [
      "A fragment slide\n"
     ]
    }
   ],
   "source": [
    "print(\"A fragment slide\")"
   ]
  },
  {
   "cell_type": "markdown",
   "metadata": {
    "colab_type": "text",
    "id": "UBQ-JVpYFApp",
    "slideshow": {
     "slide_type": "fragment"
    }
   },
   "source": [
    "## 另一張 Fragment 投影片"
   ]
  },
  {
   "cell_type": "code",
   "execution_count": 0,
   "metadata": {
    "colab": {},
    "colab_type": "code",
    "id": "M5OVFL8uFApq",
    "outputId": "f13143d6-4321-4e1f-e74e-f93564062d86",
    "slideshow": {
     "slide_type": "fragment"
    }
   },
   "outputs": [
    {
     "name": "stdout",
     "output_type": "stream",
     "text": [
      "Another fragment slide\n"
     ]
    }
   ],
   "source": [
    "print(\"Another fragment slide\")"
   ]
  },
  {
   "cell_type": "markdown",
   "metadata": {
    "slideshow": {
     "slide_type": "slide"
    }
   },
   "source": [
    "# 使用須知\n",
    "* `.py`檔案雖然和`jupytext`相容，但是無法被`jupyter nbconvert`轉譯\n",
    "  * 解法為light script，用`ipynb`進行簡報，用`.py`編輯\n",
    "* 無法即時更新，需要重啟jupyter server"
   ]
  },
  {
   "cell_type": "markdown",
   "metadata": {
    "slideshow": {
     "slide_type": "slide"
    }
   },
   "source": [
    "## 轉成pdf\n",
    "* 原本\n",
    "`http://127.0.0.1:8000/my-nb-slide.slides.html#/`\n",
    "* 加上print-pdf\n",
    "`http://127.0.0.1:8000/my-nb-slide.slides.html?print-pdf`"
   ]
  },
  {
   "cell_type": "markdown",
   "metadata": {
    "slideshow": {
     "slide_type": "slide"
    }
   },
   "source": [
    "## Live coding\n",
    "* `pip install rise` or `conda install rise`\n",
    "\n",
    "* 上方工具列，圖表按鈕\n",
    "* 可以Live coding\n",
    "* 但是會顯示章節"
   ]
  },
  {
   "cell_type": "markdown",
   "metadata": {
    "colab_type": "text",
    "id": "Tv-bty7lFApu",
    "slideshow": {
     "slide_type": "skip"
    }
   },
   "source": [
    "## Skip"
   ]
  },
  {
   "cell_type": "code",
   "execution_count": 0,
   "metadata": {
    "colab": {},
    "colab_type": "code",
    "id": "QtDhfBHJFApw",
    "outputId": "55c21732-e1b3-40ae-cf02-de7f8d061c1c",
    "slideshow": {
     "slide_type": "skip"
    }
   },
   "outputs": [
    {
     "name": "stdout",
     "output_type": "stream",
     "text": [
      "Skip slide\n"
     ]
    }
   ],
   "source": [
    "print(\"Skip slide\")"
   ]
  },
  {
   "cell_type": "markdown",
   "metadata": {
    "colab_type": "text",
    "id": "hhEYn6BcFAp0",
    "slideshow": {
     "slide_type": "notes"
    }
   },
   "source": [
    "## Notes\n",
    "* 備忘錄"
   ]
  },
  {
   "cell_type": "code",
   "execution_count": 0,
   "metadata": {
    "colab": {},
    "colab_type": "code",
    "id": "ynklVTNiFAp1",
    "outputId": "d15e5884-a9c0-443e-af59-414bcc129df7",
    "slideshow": {
     "slide_type": "notes"
    }
   },
   "outputs": [
    {
     "name": "stdout",
     "output_type": "stream",
     "text": [
      "Notes slide\n"
     ]
    }
   ],
   "source": [
    "print(\"Notes slide\")"
   ]
  }
 ],
 "metadata": {
  "celltoolbar": "Slideshow",
  "colab": {
   "name": "my-nb-slide.ipynb",
   "provenance": [],
   "version": "0.3.2"
  },
  "jupytext": {
   "encoding": "# -*- coding: utf-8 -*-",
   "formats": "ipynb,py:light"
  },
  "kernelspec": {
   "display_name": "Python 3",
   "language": "python",
   "name": "python3"
  },
  "language_info": {
   "codemirror_mode": {
    "name": "ipython",
    "version": 3
   },
   "file_extension": ".py",
   "mimetype": "text/x-python",
   "name": "python",
   "nbconvert_exporter": "python",
   "pygments_lexer": "ipython3",
   "version": "3.6.5"
  },
  "toc": {
   "base_numbering": 1,
   "nav_menu": {},
   "number_sections": true,
   "sideBar": true,
   "skip_h1_title": false,
   "title_cell": "Table of Contents",
   "title_sidebar": "Contents",
   "toc_cell": false,
   "toc_position": {},
   "toc_section_display": true,
   "toc_window_display": false
  }
 },
 "nbformat": 4,
 "nbformat_minor": 2
}
